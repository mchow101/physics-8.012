{
 "cells": [
  {
   "cell_type": "code",
   "execution_count": 1,
   "metadata": {},
   "outputs": [],
   "source": [
    "# imports\n",
    "import numpy as np"
   ]
  },
  {
   "cell_type": "code",
   "execution_count": 2,
   "metadata": {},
   "outputs": [
    {
     "name": "stdout",
     "output_type": "stream",
     "text": [
      "The rod's mass is 15.571749856292376 kg\n"
     ]
    }
   ],
   "source": [
    "# problem 8(a)\n",
    "def mpul(x, l):\n",
    "    num = (np.sin((2 * np.pi * x) / l)) ** 2\n",
    "    den = x / l\n",
    "    return num / den\n",
    "\n",
    "l = 10\n",
    "x_seq = mpul(l * np.arange(1, 1000) / 1000, l)\n",
    "mass = np.sum(x_seq) * (l / 1000)\n",
    "\n",
    "print(\"The rod's mass is\", mass, \"kg\")"
   ]
  },
  {
   "cell_type": "code",
   "execution_count": 3,
   "metadata": {},
   "outputs": [
    {
     "name": "stdout",
     "output_type": "stream",
     "text": [
      "The rod's center of mass is 5.005005005005005\n"
     ]
    }
   ],
   "source": [
    "# problem 8(b)\n",
    "avg_mtp = np.mean(x_seq * l * np.arange(1, 1000) / 1000)\n",
    "print(\"The rod's center of mass is\", avg_mtp)"
   ]
  }
 ],
 "metadata": {
  "kernelspec": {
   "display_name": "Python 3",
   "language": "python",
   "name": "python3"
  },
  "language_info": {
   "codemirror_mode": {
    "name": "ipython",
    "version": 3
   },
   "file_extension": ".py",
   "mimetype": "text/x-python",
   "name": "python",
   "nbconvert_exporter": "python",
   "pygments_lexer": "ipython3",
   "version": "3.7.6"
  }
 },
 "nbformat": 4,
 "nbformat_minor": 4
}
