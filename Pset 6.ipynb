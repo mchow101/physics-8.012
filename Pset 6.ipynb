{
 "cells": [
  {
   "cell_type": "code",
   "execution_count": 1,
   "metadata": {},
   "outputs": [],
   "source": [
    "# imports\n",
    "import numpy as np\n",
    "import matplotlib.pyplot as plt"
   ]
  },
  {
   "cell_type": "code",
   "execution_count": 2,
   "metadata": {},
   "outputs": [],
   "source": [
    "# constants\n",
    "M = 1 #kg\n",
    "dm = 0.0001 #kg\n",
    "v_0 = 10 #m/s\n",
    "dz = 0.0001 #m\n",
    "n = 100000 #particles\n",
    "C = 2 * (dm / dz) * 4 / M"
   ]
  },
  {
   "cell_type": "code",
   "execution_count": 3,
   "metadata": {},
   "outputs": [],
   "source": [
    "# functions\n",
    "def delta_v(v, cos_theta):\n",
    "    return v * (1 - ((M - dm)/(M + dm)) * cos_theta)\n",
    "\n",
    "def v(t, C):\n",
    "    return v_0 / (1 + v_0 * C * t / M)"
   ]
  },
  {
   "cell_type": "code",
   "execution_count": 4,
   "metadata": {},
   "outputs": [],
   "source": [
    "# part B calculations\n",
    "z = 0\n",
    "t = 0\n",
    "C = 2 * (dm / dz) * 4 / M\n",
    "t_arr = [t]\n",
    "v_model = [v_0]\n",
    "v_analytical = [v_0]\n",
    "for i in range(n):\n",
    "    z = z + dz\n",
    "    t = t + dz / v_0\n",
    "    x = 2 * np.random.random() - 1\n",
    "    y = 2 * np.random.random() - 1\n",
    "    v_change = delta_v(v_model[-1], 1)\n",
    "    v_model.append(v_model[-1] - v_change)\n",
    "    v_analytical.append(v(t, C))\n",
    "    t_arr.append(t)"
   ]
  },
  {
   "cell_type": "code",
   "execution_count": 5,
   "metadata": {},
   "outputs": [
    {
     "name": "stderr",
     "output_type": "stream",
     "text": [
      "C:\\Users\\Mitali\\Anaconda3\\lib\\site-packages\\IPython\\core\\pylabtools.py:132: UserWarning: Creating legend with loc=\"best\" can be slow with large amounts of data.\n",
      "  fig.canvas.print_figure(bytes_io, **kw)\n"
     ]
    },
    {
     "data": {
      "image/png": "[encoded data removed]",
      "text/plain": [
       "<Figure size 432x288 with 1 Axes>"
      ]
     },
     "metadata": {
      "needs_background": "light"
     },
     "output_type": "display_data"
    }
   ],
   "source": [
    "# part B plots\n",
    "fig, ax = plt.subplots()\n",
    "ax.plot(t_arr, v_model, label=\"Model\")\n",
    "ax.plot(t_arr, v_analytical, label=\"Analytical\")\n",
    "ax.set(xlabel='Time', ylabel='Velocity', title=\"Part B\")\n",
    "ax.grid()\n",
    "plt.legend()\n",
    "plt.show()"
   ]
  },
  {
   "cell_type": "code",
   "execution_count": 6,
   "metadata": {},
   "outputs": [],
   "source": [
    "# part C calculations\n",
    "def cos(x, y):\n",
    "    return 1 / (np.sqrt(4 * x ** 2 + 4 * y ** 2 + 1))\n",
    "\n",
    "z = 0\n",
    "t = 0\n",
    "t_arr = [t]\n",
    "v_model = [v_0]\n",
    "v_analytical = [v_0]\n",
    "C = C * 2\n",
    "for i in range(n):\n",
    "    z = z + dz\n",
    "    t = t + dz / v_0\n",
    "    x = 2 * np.random.random() - 1\n",
    "    y = 2 * np.random.random() - 1\n",
    "    v_change = delta_v(v_model[-1], cos(x, y))\n",
    "    v_model.append(v_model[-1] - v_change)\n",
    "    v_analytical.append(v(t, C))\n",
    "    t_arr.append(t)"
   ]
  },
  {
   "cell_type": "code",
   "execution_count": 7,
   "metadata": {},
   "outputs": [
    {
     "data": {
      "image/png": "[encoded data removed]",
      "text/plain": [
       "<Figure size 432x288 with 1 Axes>"
      ]
     },
     "metadata": {
      "needs_background": "light"
     },
     "output_type": "display_data"
    }
   ],
   "source": [
    "# part C plots\n",
    "fig, ax = plt.subplots()\n",
    "ax.plot(t_arr, v_model, label=\"Model\")\n",
    "# ax.plot(t_arr, v_analytical, label=\"Analytical\")\n",
    "ax.set(xlabel='Time', ylabel='Velocity', title=\"Part B\")\n",
    "ax.grid()\n",
    "plt.legend()\n",
    "plt.show()"
   ]
  }
 ],
 "metadata": {
  "kernelspec": {
   "display_name": "Python 3",
   "language": "python",
   "name": "python3"
  },
  "language_info": {
   "codemirror_mode": {
    "name": "ipython",
    "version": 3
   },
   "file_extension": ".py",
   "mimetype": "text/x-python",
   "name": "python",
   "nbconvert_exporter": "python",
   "pygments_lexer": "ipython3",
   "version": "3.7.6"
  }
 },
 "nbformat": 4,
 "nbformat_minor": 4
}
