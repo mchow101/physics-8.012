{
 "cells": [
  {
   "cell_type": "code",
   "execution_count": 1,
   "metadata": {},
   "outputs": [],
   "source": [
    "# imports\n",
    "import matplotlib.pyplot as plt\n",
    "import numpy as np"
   ]
  },
  {
   "cell_type": "code",
   "execution_count": 2,
   "metadata": {},
   "outputs": [],
   "source": [
    "# constants\n",
    "G = 6.674e-11 # m^3 / kg s^2\n",
    "yr = 31536000 # s\n",
    "sm = 1.989e30 # kg\n",
    "au = 1.496e11 # m\n",
    "# initialize values\n",
    "T = 100\n",
    "dt = 0.01\n",
    "v1 = [[np.sqrt((2 * G * sm) / (2 * au)), 0.5]]\n",
    "v2 = [[-np.sqrt((2 * G * sm) / (2 * au)), 0.5]]\n",
    "v3 = [[0, -1]]\n",
    "traj1 = [[-5, 1]]\n",
    "traj2 = [[-5, -1]]\n",
    "traj3 = [[10, 0]]"
   ]
  },
  {
   "cell_type": "code",
   "execution_count": 3,
   "metadata": {},
   "outputs": [],
   "source": [
    "for i in range(0, T * 100, int(dt * 100)):\n",
    "    # move trajectory\n",
    "    traj1.append([traj1[-1][0] + dt * v1[-1][0], traj1[-1][1] + dt * v1[-1][1]])\n",
    "    traj2.append([traj2[-1][0] + dt * v2[-1][0], traj2[-1][1] + dt * v2[-1][1]])\n",
    "    traj3.append([traj3[-1][0] + dt * v3[-1][0], traj3[-1][1] + dt * v3[-1][1]])\n",
    "    # update velocity\n",
    "    dv1x = ((G * au) / ((traj1[-1][0] - traj2[-1][0]) ** 2) + (G * au) / ((traj1[-1][0] - traj3[-1][0]) ** 2))\n",
    "    dv1y = ((G * au) / ((traj1[-1][1] - traj2[-1][1]) ** 2) + (G * au) / ((traj1[-1][1] - traj3[-1][1]) ** 2))\n",
    "    v1.append([traj1[-1][0] + dv1x, traj1[-1][1] + dv1y])\n",
    "    dv2x = ((G * au) / ((traj1[-1][0] - traj2[-1][0]) ** 2) + (G * au) / ((traj2[-1][0] - traj3[-1][0]) ** 2))\n",
    "    dv2y = ((G * au) / ((traj1[-1][1] - traj2[-1][1]) ** 2) + (G * au) / ((traj2[-1][1] - traj3[-1][1]) ** 2))\n",
    "    v2.append([traj2[-1][0] + dv2x, traj2[-1][1] + dv2y])\n",
    "    dv3x = ((G * au) / ((traj3[-1][0] - traj2[-1][0]) ** 2) + (G * au) / ((traj1[-1][0] - traj3[-1][0]) ** 2))\n",
    "    dv3y = ((G * au) / ((traj3[-1][1] - traj2[-1][1]) ** 2) + (G * au) / ((traj1[-1][1] - traj3[-1][1]) ** 2))\n",
    "    v3.append([traj3[-1][0] + dv3x, traj3[-1][1] + dv3y])"
   ]
  },
  {
   "cell_type": "code",
   "execution_count": 4,
   "metadata": {},
   "outputs": [
    {
     "data": {
      "image/png": "[encoded data removed]",
      "text/plain": [
       "<Figure size 1152x144 with 8 Axes>"
      ]
     },
     "metadata": {
      "needs_background": "light"
     },
     "output_type": "display_data"
    }
   ],
   "source": [
    "fig, ax = plt.subplots(1,8, figsize=(16,2.0), sharey=True, sharex=True)\n",
    "for i in range(0, 8):\n",
    "    max_t = i*(len(traj1)//8)\n",
    "    if not max_t == 0:\n",
    "        ax[i].plot(traj1[:max_t][0], traj1[:max_t][1], label='M1')\n",
    "        ax[i].plot(traj2[:max_t][0], traj2[:max_t][1], label='M2')\n",
    "        ax[i].plot(traj3[:max_t][0], traj3[:max_t][1], label='M3')\n",
    "    # add final points\n",
    "    ax[i].plot(traj1[max_t][0], traj1[max_t][1], marker='o', color='tab:blue')\n",
    "    ax[i].plot(traj2[max_t][0], traj2[max_t][1], marker='o', color='tab:orange')\n",
    "    ax[i].plot(traj3[max_t][0], traj3[max_t][1], marker='o', color='tab:green')\n",
    "    # add initial points\n",
    "    ax[i].plot(traj1[0][0], traj1[0][1], marker='x', color='tab:blue')\n",
    "    ax[i].plot(traj2[0][0], traj2[0][1], marker='x', color='tab:orange')\n",
    "    ax[i].plot(traj3[0][0], traj3[0][1], marker='x', color='tab:green')\n",
    "    ax[i].set_xlim(-10.0, 10.0)\n",
    "    ax[i].set_ylim(-10.0, 10.0)\n",
    "    ax[i].set_aspect(1)\n",
    "plt.show()"
   ]
  }
 ],
 "metadata": {
  "kernelspec": {
   "display_name": "Python 3",
   "language": "python",
   "name": "python3"
  },
  "language_info": {
   "codemirror_mode": {
    "name": "ipython",
    "version": 3
   },
   "file_extension": ".py",
   "mimetype": "text/x-python",
   "name": "python",
   "nbconvert_exporter": "python",
   "pygments_lexer": "ipython3",
   "version": "3.7.6"
  }
 },
 "nbformat": 4,
 "nbformat_minor": 4
}
